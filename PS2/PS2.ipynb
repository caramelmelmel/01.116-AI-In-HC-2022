{
  "cells": [
    {
      "cell_type": "markdown",
      "metadata": {
        "id": "rr_v0sw_CtFZ"
      },
      "source": [
        "# Problem Understanding\n",
        "\n",
        "In this exercise, we will be designing a Long-Short Term Memory (LSTM) model to predict and forecast blood glucose in diabetic patients. Traditional blood glucose monitoring for diabetics has always been tedious and cumbersome, as patients are often required to visit their doctors regularly for blood test, and the blood glucose monitoring device provides glucose reading for that particular time instance. \n",
        "\n",
        "Continuous glucose monitoring (CGM) devices that can be attached onto the patient’s arm to actively monitor their blood glucose level are more useful and becoming more common. Here, we use Recurrent Neural Network (RNN) / Long-Short Term Memory (LSTM) models to predict future blood glucose levels, thereby facilitating any adjustment in the amount of insulin to be administered, or earlier detection of any potential disease complication. \n",
        "\n",
        "The control of blood glucose level is important for diabetics. According to https://www.medicinenet.com/diabetes_mellitus/article.htm, the blood glucose level of diabetics in milligrams per decilitre (mg/dL) should be maintained between 70 to 120 mg/dL before meals, and under 140mg/dL two hours after eating.  \n",
        "\n",
        "| Blood glucose level\t| Outcome |\n",
        "|---|---|\n",
        "| Below 70 mg/dL\t| Symptoms of low blood sugar |\n",
        "| Above 180 mg/dL\t| High blood sugar |\n",
        "\n"
      ]
    },
    {
      "cell_type": "markdown",
      "metadata": {
        "id": "uzV0Bu0QCv0F"
      },
      "source": [
        "## Dataset Description\n",
        "The table below shows the metadata. Some data may be more important and useful for our model’s prediction.\n",
        "\n",
        "| Column\t| Description |\n",
        "|---|---|\n",
        "|RecordID\t      |Unique record ID (Entry of record) |\n",
        "|PatientID\t        |Patient ID |\n",
        "|RecordType\t  |Type of record (CGM or Calibration) |\n",
        "|DeviceDaysFromEnrolment\t|Days elapsed from enrolment |\n",
        "|DeviceDayTimeFromEnrolment\t    |Time on the date elapsed from enrolment |\n",
        "|GlucoseValue\t|Ground truth glucose value in mg/dL |\n"
      ]
    },
    {
      "cell_type": "markdown",
      "metadata": {
        "id": "54zZ-OEiHQxz"
      },
      "source": [
        "## Data Understanding"
      ]
    },
    {
      "cell_type": "code",
      "execution_count": 2,
      "metadata": {},
      "outputs": [
        {
          "name": "stdout",
          "output_type": "stream",
          "text": [
            "Requirement already satisfied: gdown in /opt/anaconda3/lib/python3.9/site-packages (4.4.0)\n",
            "Requirement already satisfied: beautifulsoup4 in /opt/anaconda3/lib/python3.9/site-packages (from gdown) (4.10.0)\n",
            "Requirement already satisfied: requests[socks] in /opt/anaconda3/lib/python3.9/site-packages (from gdown) (2.26.0)\n",
            "Requirement already satisfied: filelock in /opt/anaconda3/lib/python3.9/site-packages (from gdown) (3.3.1)\n",
            "Requirement already satisfied: six in /opt/anaconda3/lib/python3.9/site-packages (from gdown) (1.16.0)\n",
            "Requirement already satisfied: tqdm in /opt/anaconda3/lib/python3.9/site-packages (from gdown) (4.62.3)\n",
            "Requirement already satisfied: soupsieve>1.2 in /opt/anaconda3/lib/python3.9/site-packages (from beautifulsoup4->gdown) (2.2.1)\n",
            "Requirement already satisfied: charset-normalizer~=2.0.0 in /opt/anaconda3/lib/python3.9/site-packages (from requests[socks]->gdown) (2.0.4)\n",
            "Requirement already satisfied: certifi>=2017.4.17 in /opt/anaconda3/lib/python3.9/site-packages (from requests[socks]->gdown) (2021.10.8)\n",
            "Requirement already satisfied: idna<4,>=2.5 in /opt/anaconda3/lib/python3.9/site-packages (from requests[socks]->gdown) (3.2)\n",
            "Requirement already satisfied: urllib3<1.27,>=1.21.1 in /opt/anaconda3/lib/python3.9/site-packages (from requests[socks]->gdown) (1.26.7)\n",
            "Requirement already satisfied: PySocks!=1.5.7,>=1.5.6 in /opt/anaconda3/lib/python3.9/site-packages (from requests[socks]->gdown) (1.7.1)\n",
            "Requirement already satisfied: tensorflow in /opt/anaconda3/lib/python3.9/site-packages (2.8.0)\n",
            "Requirement already satisfied: flatbuffers>=1.12 in /opt/anaconda3/lib/python3.9/site-packages (from tensorflow) (2.0)\n",
            "Requirement already satisfied: typing-extensions>=3.6.6 in /opt/anaconda3/lib/python3.9/site-packages (from tensorflow) (3.10.0.2)\n",
            "Requirement already satisfied: h5py>=2.9.0 in /opt/anaconda3/lib/python3.9/site-packages (from tensorflow) (3.2.1)\n",
            "Requirement already satisfied: six>=1.12.0 in /opt/anaconda3/lib/python3.9/site-packages (from tensorflow) (1.16.0)\n",
            "Requirement already satisfied: setuptools in /opt/anaconda3/lib/python3.9/site-packages (from tensorflow) (58.0.4)\n",
            "Requirement already satisfied: tensorboard<2.9,>=2.8 in /opt/anaconda3/lib/python3.9/site-packages (from tensorflow) (2.8.0)\n",
            "Requirement already satisfied: google-pasta>=0.1.1 in /opt/anaconda3/lib/python3.9/site-packages (from tensorflow) (0.2.0)\n",
            "Requirement already satisfied: absl-py>=0.4.0 in /opt/anaconda3/lib/python3.9/site-packages (from tensorflow) (1.0.0)\n",
            "Requirement already satisfied: libclang>=9.0.1 in /opt/anaconda3/lib/python3.9/site-packages (from tensorflow) (13.0.0)\n",
            "Requirement already satisfied: tensorflow-io-gcs-filesystem>=0.23.1 in /opt/anaconda3/lib/python3.9/site-packages (from tensorflow) (0.24.0)\n",
            "Requirement already satisfied: tf-estimator-nightly==2.8.0.dev2021122109 in /opt/anaconda3/lib/python3.9/site-packages (from tensorflow) (2.8.0.dev2021122109)\n",
            "Requirement already satisfied: termcolor>=1.1.0 in /opt/anaconda3/lib/python3.9/site-packages (from tensorflow) (1.1.0)\n",
            "Requirement already satisfied: astunparse>=1.6.0 in /opt/anaconda3/lib/python3.9/site-packages (from tensorflow) (1.6.3)\n",
            "Requirement already satisfied: keras<2.9,>=2.8.0rc0 in /opt/anaconda3/lib/python3.9/site-packages (from tensorflow) (2.8.0)\n",
            "Requirement already satisfied: wrapt>=1.11.0 in /opt/anaconda3/lib/python3.9/site-packages (from tensorflow) (1.12.1)\n",
            "Requirement already satisfied: protobuf>=3.9.2 in /opt/anaconda3/lib/python3.9/site-packages (from tensorflow) (3.19.4)\n",
            "Requirement already satisfied: gast>=0.2.1 in /opt/anaconda3/lib/python3.9/site-packages (from tensorflow) (0.5.3)\n",
            "Requirement already satisfied: keras-preprocessing>=1.1.1 in /opt/anaconda3/lib/python3.9/site-packages (from tensorflow) (1.1.2)\n",
            "Requirement already satisfied: numpy>=1.20 in /opt/anaconda3/lib/python3.9/site-packages (from tensorflow) (1.20.3)\n",
            "Requirement already satisfied: grpcio<2.0,>=1.24.3 in /opt/anaconda3/lib/python3.9/site-packages (from tensorflow) (1.44.0)\n",
            "Requirement already satisfied: opt-einsum>=2.3.2 in /opt/anaconda3/lib/python3.9/site-packages (from tensorflow) (3.3.0)\n",
            "Requirement already satisfied: wheel<1.0,>=0.23.0 in /opt/anaconda3/lib/python3.9/site-packages (from astunparse>=1.6.0->tensorflow) (0.37.0)\n",
            "Requirement already satisfied: markdown>=2.6.8 in /opt/anaconda3/lib/python3.9/site-packages (from tensorboard<2.9,>=2.8->tensorflow) (3.3.6)\n",
            "Requirement already satisfied: google-auth-oauthlib<0.5,>=0.4.1 in /opt/anaconda3/lib/python3.9/site-packages (from tensorboard<2.9,>=2.8->tensorflow) (0.4.6)\n",
            "Requirement already satisfied: requests<3,>=2.21.0 in /opt/anaconda3/lib/python3.9/site-packages (from tensorboard<2.9,>=2.8->tensorflow) (2.26.0)\n",
            "Requirement already satisfied: tensorboard-plugin-wit>=1.6.0 in /opt/anaconda3/lib/python3.9/site-packages (from tensorboard<2.9,>=2.8->tensorflow) (1.8.1)\n",
            "Requirement already satisfied: werkzeug>=0.11.15 in /opt/anaconda3/lib/python3.9/site-packages (from tensorboard<2.9,>=2.8->tensorflow) (2.0.2)\n",
            "Requirement already satisfied: tensorboard-data-server<0.7.0,>=0.6.0 in /opt/anaconda3/lib/python3.9/site-packages (from tensorboard<2.9,>=2.8->tensorflow) (0.6.1)\n",
            "Requirement already satisfied: google-auth<3,>=1.6.3 in /opt/anaconda3/lib/python3.9/site-packages (from tensorboard<2.9,>=2.8->tensorflow) (2.6.0)\n",
            "Requirement already satisfied: pyasn1-modules>=0.2.1 in /opt/anaconda3/lib/python3.9/site-packages (from google-auth<3,>=1.6.3->tensorboard<2.9,>=2.8->tensorflow) (0.2.8)\n",
            "Requirement already satisfied: rsa<5,>=3.1.4 in /opt/anaconda3/lib/python3.9/site-packages (from google-auth<3,>=1.6.3->tensorboard<2.9,>=2.8->tensorflow) (4.8)\n",
            "Requirement already satisfied: cachetools<6.0,>=2.0.0 in /opt/anaconda3/lib/python3.9/site-packages (from google-auth<3,>=1.6.3->tensorboard<2.9,>=2.8->tensorflow) (5.0.0)\n",
            "Requirement already satisfied: requests-oauthlib>=0.7.0 in /opt/anaconda3/lib/python3.9/site-packages (from google-auth-oauthlib<0.5,>=0.4.1->tensorboard<2.9,>=2.8->tensorflow) (1.3.1)\n",
            "Requirement already satisfied: importlib-metadata>=4.4 in /opt/anaconda3/lib/python3.9/site-packages (from markdown>=2.6.8->tensorboard<2.9,>=2.8->tensorflow) (4.8.1)\n",
            "Requirement already satisfied: zipp>=0.5 in /opt/anaconda3/lib/python3.9/site-packages (from importlib-metadata>=4.4->markdown>=2.6.8->tensorboard<2.9,>=2.8->tensorflow) (3.6.0)\n",
            "Requirement already satisfied: pyasn1<0.5.0,>=0.4.6 in /opt/anaconda3/lib/python3.9/site-packages (from pyasn1-modules>=0.2.1->google-auth<3,>=1.6.3->tensorboard<2.9,>=2.8->tensorflow) (0.4.8)\n",
            "Requirement already satisfied: certifi>=2017.4.17 in /opt/anaconda3/lib/python3.9/site-packages (from requests<3,>=2.21.0->tensorboard<2.9,>=2.8->tensorflow) (2021.10.8)\n",
            "Requirement already satisfied: urllib3<1.27,>=1.21.1 in /opt/anaconda3/lib/python3.9/site-packages (from requests<3,>=2.21.0->tensorboard<2.9,>=2.8->tensorflow) (1.26.7)\n",
            "Requirement already satisfied: idna<4,>=2.5 in /opt/anaconda3/lib/python3.9/site-packages (from requests<3,>=2.21.0->tensorboard<2.9,>=2.8->tensorflow) (3.2)\n",
            "Requirement already satisfied: charset-normalizer~=2.0.0 in /opt/anaconda3/lib/python3.9/site-packages (from requests<3,>=2.21.0->tensorboard<2.9,>=2.8->tensorflow) (2.0.4)\n",
            "Requirement already satisfied: oauthlib>=3.0.0 in /opt/anaconda3/lib/python3.9/site-packages (from requests-oauthlib>=0.7.0->google-auth-oauthlib<0.5,>=0.4.1->tensorboard<2.9,>=2.8->tensorflow) (3.2.0)\n",
            "Requirement already satisfied: keras in /opt/anaconda3/lib/python3.9/site-packages (2.8.0)\n"
          ]
        }
      ],
      "source": [
        "!pip3 install gdown\n",
        "!pip3 install tensorflow\n",
        "!pip3 install keras"
      ]
    },
    {
      "cell_type": "code",
      "execution_count": 3,
      "metadata": {
        "colab": {
          "base_uri": "https://localhost:8080/"
        },
        "id": "rbQt4uxxloZq",
        "outputId": "56140828-3a48-47cd-be98-351482f2d904"
      },
      "outputs": [
        {
          "ename": "ModuleNotFoundError",
          "evalue": "No module named 'google.colab'",
          "output_type": "error",
          "traceback": [
            "\u001b[0;31m---------------------------------------------------------------------------\u001b[0m",
            "\u001b[0;31mModuleNotFoundError\u001b[0m                       Traceback (most recent call last)",
            "\u001b[0;32m/var/folders/8n/3jp302v14s93ttnkcym51vv40000gn/T/ipykernel_4274/3822399892.py\u001b[0m in \u001b[0;36m<module>\u001b[0;34m\u001b[0m\n\u001b[1;32m      1\u001b[0m \u001b[0;31m## Mount Google Drive\u001b[0m\u001b[0;34m\u001b[0m\u001b[0;34m\u001b[0m\u001b[0m\n\u001b[0;32m----> 2\u001b[0;31m \u001b[0;32mfrom\u001b[0m \u001b[0mgoogle\u001b[0m\u001b[0;34m.\u001b[0m\u001b[0mcolab\u001b[0m \u001b[0;32mimport\u001b[0m \u001b[0mdrive\u001b[0m\u001b[0;34m\u001b[0m\u001b[0;34m\u001b[0m\u001b[0m\n\u001b[0m\u001b[1;32m      3\u001b[0m \u001b[0mdrive\u001b[0m\u001b[0;34m.\u001b[0m\u001b[0mmount\u001b[0m\u001b[0;34m(\u001b[0m\u001b[0;34m'/content/drive/MyDrive/'\u001b[0m\u001b[0;34m)\u001b[0m\u001b[0;34m\u001b[0m\u001b[0;34m\u001b[0m\u001b[0m\n",
            "\u001b[0;31mModuleNotFoundError\u001b[0m: No module named 'google.colab'"
          ]
        }
      ],
      "source": [
        "## Mount Google Drive\n",
        "from google.colab import drive\n",
        "drive.mount('/content/drive/MyDrive/')"
      ]
    },
    {
      "cell_type": "code",
      "execution_count": 4,
      "metadata": {
        "colab": {
          "base_uri": "https://localhost:8080/"
        },
        "id": "yWVjgwptHWaX",
        "outputId": "ddfef740-df28-4da5-e6d0-5029c957bbd4"
      },
      "outputs": [
        {
          "data": {
            "text/plain": [
              "\"\\nif os.path.exists(f'/content/drive/MyDrive/AIHC/PS{pset_num}') == False:\\n  os.mkdir('/content/drive/MyDrive/AIHC')\\n  os.mkdir(f'/content/drive/MyDrive/AIHC/PS{pset_num}')\\nos.chdir('/content/drive/MyDrive/AIHC/PS2')\\nprint(os.getcwd())\\n\""
            ]
          },
          "execution_count": 4,
          "metadata": {},
          "output_type": "execute_result"
        }
      ],
      "source": [
        "## Change working directory\n",
        "import os\n",
        "pset_num = 2\n",
        "\"\"\"\n",
        "if os.path.exists(f'/content/drive/MyDrive/AIHC/PS{pset_num}') == False:\n",
        "  os.mkdir('/content/drive/MyDrive/AIHC')\n",
        "  os.mkdir(f'/content/drive/MyDrive/AIHC/PS{pset_num}')\n",
        "os.chdir('/content/drive/MyDrive/AIHC/PS2')\n",
        "print(os.getcwd())\n",
        "\"\"\""
      ]
    },
    {
      "cell_type": "code",
      "execution_count": 43,
      "metadata": {
        "colab": {
          "base_uri": "https://localhost:8080/"
        },
        "id": "Lh1NU71YmKKK",
        "outputId": "7b78d865-6b09-45ba-fdf4-fd808aa63f75"
      },
      "outputs": [
        {
          "name": "stdout",
          "output_type": "stream",
          "text": [
            "File is found\n"
          ]
        }
      ],
      "source": [
        "## Download data \n",
        "dir_data = 'Data.csv'\n",
        "\n",
        "if os.path.exists(dir_data)==True:\n",
        "  print(\"File is found\")\n",
        "else:\n",
        "  print(\"File not found\")\n",
        "  !gdown --id 1lxEX9CvKT4KZsASRhDwv5CBjqikwR8ct \n",
        "  ## If this method does not work, download from the url below and upload to \"/content/drive/MyDrive/AIHC/PS2/Data.csv\"\n",
        "  # url = \"https://drive.google.com/file/d/1lxEX9CvKT4KZsASRhDwv5CBjqikwR8ct/view?usp=sharing\""
      ]
    },
    {
      "cell_type": "code",
      "execution_count": 42,
      "metadata": {
        "id": "krd_L-jGgrDS"
      },
      "outputs": [],
      "source": [
        "## Import libraries\n",
        "import tensorflow as tf\n",
        "import keras\n",
        "import numpy as np\n",
        "import pandas as pd"
      ]
    },
    {
      "cell_type": "markdown",
      "metadata": {
        "id": "7x7UNuiC-O5a"
      },
      "source": [
        ">❗❗❗ Submit answers to Checkpoints 1, 2 and 3, within ⏰**1 week after the release of the Problem Set**"
      ]
    },
    {
      "cell_type": "markdown",
      "metadata": {
        "id": "HIrjCPgVZRp5"
      },
      "source": [
        ">💡You may wish to define wrapper functions for train-test-split, training and validation. This will help you tremendously in implementing the for-loop for Checkpoints 8 and 9 while you search for the best window size and changing hyperparameters."
      ]
    },
    {
      "cell_type": "markdown",
      "metadata": {
        "id": "oReSEslKK5nz"
      },
      "source": [
        ">❓Checkpoint 1: Outline the steps to take to prepare your dataset (e.g. selecting the relevant columns) for time series analysis. \n",
        "\n",
        ">🖊 Answer: \n",
        "\n",
        "First, I select the columns that are relevant. In this case, we found that there is only one patient and that each records of that particular patient is unique so that is one reason for dropping those two columns. \n",
        "\n",
        "Second, using the meaning of calibration, the values are that it's more for calibrating and it's not for measurement on the monitor. Hence, we can drop the rows that has their column of RecordType carrying the value of 'Calibration'.\n",
        "\n",
        "To get to the steps above, I printed and noticed the data.\n",
        "\n",
        "Third, I sorted the data according to the DeviceDayFromEnrolment first in order to know when it was last administed to split the graphs into their respective days.\n",
        "\n",
        "We also sort the timings to plot the sliding windows accordingly.\n",
        "\n",
        "The code blocks below show how we come to the above steps to be done."
      ]
    },
    {
      "cell_type": "code",
      "execution_count": 44,
      "metadata": {
        "colab": {
          "base_uri": "https://localhost:8080/",
          "height": 782
        },
        "id": "bjy6wSZjmnrQ",
        "outputId": "e29df0f2-99bf-45c7-996d-a38d0c20718e"
      },
      "outputs": [
        {
          "name": "stdout",
          "output_type": "stream",
          "text": [
            "        RecID  PtID  DeviceDaysFromEnrolment DeviceDayTimeFromEnrolment  \\\n",
            "0     9688727   116                        5                   10:47:16   \n",
            "1     9688728   116                        5                   10:42:16   \n",
            "2     9688729   116                        5                   10:37:16   \n",
            "3     9688730   116                        5                   10:32:16   \n",
            "4     9688731   116                        5                   10:27:16   \n",
            "...       ...   ...                      ...                        ...   \n",
            "1803  9715516   116                        4                   19:07:18   \n",
            "1804  9715517   116                        4                   19:02:20   \n",
            "1805  9715518   116                        4                   18:57:18   \n",
            "1806  9715519   116                        4                   18:52:18   \n",
            "1807  9715520   116                        4                   18:47:18   \n",
            "\n",
            "     RecordType  GlucoseValue  \n",
            "0           CGM           233  \n",
            "1           CGM           240  \n",
            "2           CGM           248  \n",
            "3           CGM           252  \n",
            "4           CGM           248  \n",
            "...         ...           ...  \n",
            "1803        CGM           108  \n",
            "1804        CGM           100  \n",
            "1805        CGM           102  \n",
            "1806        CGM           122  \n",
            "1807        CGM           128  \n",
            "\n",
            "[1808 rows x 6 columns]\n"
          ]
        },
        {
          "data": {
            "text/html": [
              "<div>\n",
              "<style scoped>\n",
              "    .dataframe tbody tr th:only-of-type {\n",
              "        vertical-align: middle;\n",
              "    }\n",
              "\n",
              "    .dataframe tbody tr th {\n",
              "        vertical-align: top;\n",
              "    }\n",
              "\n",
              "    .dataframe thead th {\n",
              "        text-align: right;\n",
              "    }\n",
              "</style>\n",
              "<table border=\"1\" class=\"dataframe\">\n",
              "  <thead>\n",
              "    <tr style=\"text-align: right;\">\n",
              "      <th></th>\n",
              "      <th>RecID</th>\n",
              "      <th>PtID</th>\n",
              "      <th>DeviceDaysFromEnrolment</th>\n",
              "      <th>GlucoseValue</th>\n",
              "    </tr>\n",
              "  </thead>\n",
              "  <tbody>\n",
              "    <tr>\n",
              "      <th>count</th>\n",
              "      <td>1.808000e+03</td>\n",
              "      <td>1808.0</td>\n",
              "      <td>1808.000000</td>\n",
              "      <td>1808.000000</td>\n",
              "    </tr>\n",
              "    <tr>\n",
              "      <th>mean</th>\n",
              "      <td>9.700537e+06</td>\n",
              "      <td>116.0</td>\n",
              "      <td>3.309735</td>\n",
              "      <td>187.674226</td>\n",
              "    </tr>\n",
              "    <tr>\n",
              "      <th>std</th>\n",
              "      <td>1.038617e+04</td>\n",
              "      <td>0.0</td>\n",
              "      <td>1.823500</td>\n",
              "      <td>64.569594</td>\n",
              "    </tr>\n",
              "    <tr>\n",
              "      <th>min</th>\n",
              "      <td>9.688727e+06</td>\n",
              "      <td>116.0</td>\n",
              "      <td>0.000000</td>\n",
              "      <td>44.000000</td>\n",
              "    </tr>\n",
              "    <tr>\n",
              "      <th>25%</th>\n",
              "      <td>9.691634e+06</td>\n",
              "      <td>116.0</td>\n",
              "      <td>2.000000</td>\n",
              "      <td>140.000000</td>\n",
              "    </tr>\n",
              "    <tr>\n",
              "      <th>50%</th>\n",
              "      <td>9.695690e+06</td>\n",
              "      <td>116.0</td>\n",
              "      <td>3.000000</td>\n",
              "      <td>184.500000</td>\n",
              "    </tr>\n",
              "    <tr>\n",
              "      <th>75%</th>\n",
              "      <td>9.713354e+06</td>\n",
              "      <td>116.0</td>\n",
              "      <td>5.000000</td>\n",
              "      <td>234.250000</td>\n",
              "    </tr>\n",
              "    <tr>\n",
              "      <th>max</th>\n",
              "      <td>9.715520e+06</td>\n",
              "      <td>116.0</td>\n",
              "      <td>6.000000</td>\n",
              "      <td>380.000000</td>\n",
              "    </tr>\n",
              "  </tbody>\n",
              "</table>\n",
              "</div>"
            ],
            "text/plain": [
              "              RecID    PtID  DeviceDaysFromEnrolment  GlucoseValue\n",
              "count  1.808000e+03  1808.0              1808.000000   1808.000000\n",
              "mean   9.700537e+06   116.0                 3.309735    187.674226\n",
              "std    1.038617e+04     0.0                 1.823500     64.569594\n",
              "min    9.688727e+06   116.0                 0.000000     44.000000\n",
              "25%    9.691634e+06   116.0                 2.000000    140.000000\n",
              "50%    9.695690e+06   116.0                 3.000000    184.500000\n",
              "75%    9.713354e+06   116.0                 5.000000    234.250000\n",
              "max    9.715520e+06   116.0                 6.000000    380.000000"
            ]
          },
          "execution_count": 44,
          "metadata": {},
          "output_type": "execute_result"
        }
      ],
      "source": [
        "## Load data\n",
        "data = pd.read_csv(dir_data)\n",
        "print(data)\n",
        "\n",
        "## Understand the data\n",
        "pd.DataFrame.describe(data)\n"
      ]
    },
    {
      "cell_type": "code",
      "execution_count": 45,
      "metadata": {
        "colab": {
          "base_uri": "https://localhost:8080/",
          "height": 206
        },
        "id": "SwUpiNMxAy_M",
        "outputId": "a857cd71-d634-4004-e9c0-9ffc928151e5"
      },
      "outputs": [
        {
          "data": {
            "text/html": [
              "<div>\n",
              "<style scoped>\n",
              "    .dataframe tbody tr th:only-of-type {\n",
              "        vertical-align: middle;\n",
              "    }\n",
              "\n",
              "    .dataframe tbody tr th {\n",
              "        vertical-align: top;\n",
              "    }\n",
              "\n",
              "    .dataframe thead th {\n",
              "        text-align: right;\n",
              "    }\n",
              "</style>\n",
              "<table border=\"1\" class=\"dataframe\">\n",
              "  <thead>\n",
              "    <tr style=\"text-align: right;\">\n",
              "      <th></th>\n",
              "      <th>RecID</th>\n",
              "      <th>PtID</th>\n",
              "      <th>DeviceDaysFromEnrolment</th>\n",
              "      <th>DeviceDayTimeFromEnrolment</th>\n",
              "      <th>RecordType</th>\n",
              "      <th>GlucoseValue</th>\n",
              "    </tr>\n",
              "  </thead>\n",
              "  <tbody>\n",
              "    <tr>\n",
              "      <th>0</th>\n",
              "      <td>9688727</td>\n",
              "      <td>116</td>\n",
              "      <td>5</td>\n",
              "      <td>10:47:16</td>\n",
              "      <td>CGM</td>\n",
              "      <td>233</td>\n",
              "    </tr>\n",
              "    <tr>\n",
              "      <th>1</th>\n",
              "      <td>9688728</td>\n",
              "      <td>116</td>\n",
              "      <td>5</td>\n",
              "      <td>10:42:16</td>\n",
              "      <td>CGM</td>\n",
              "      <td>240</td>\n",
              "    </tr>\n",
              "    <tr>\n",
              "      <th>2</th>\n",
              "      <td>9688729</td>\n",
              "      <td>116</td>\n",
              "      <td>5</td>\n",
              "      <td>10:37:16</td>\n",
              "      <td>CGM</td>\n",
              "      <td>248</td>\n",
              "    </tr>\n",
              "    <tr>\n",
              "      <th>3</th>\n",
              "      <td>9688730</td>\n",
              "      <td>116</td>\n",
              "      <td>5</td>\n",
              "      <td>10:32:16</td>\n",
              "      <td>CGM</td>\n",
              "      <td>252</td>\n",
              "    </tr>\n",
              "    <tr>\n",
              "      <th>4</th>\n",
              "      <td>9688731</td>\n",
              "      <td>116</td>\n",
              "      <td>5</td>\n",
              "      <td>10:27:16</td>\n",
              "      <td>CGM</td>\n",
              "      <td>248</td>\n",
              "    </tr>\n",
              "  </tbody>\n",
              "</table>\n",
              "</div>"
            ],
            "text/plain": [
              "     RecID  PtID  DeviceDaysFromEnrolment DeviceDayTimeFromEnrolment  \\\n",
              "0  9688727   116                        5                   10:47:16   \n",
              "1  9688728   116                        5                   10:42:16   \n",
              "2  9688729   116                        5                   10:37:16   \n",
              "3  9688730   116                        5                   10:32:16   \n",
              "4  9688731   116                        5                   10:27:16   \n",
              "\n",
              "  RecordType  GlucoseValue  \n",
              "0        CGM           233  \n",
              "1        CGM           240  \n",
              "2        CGM           248  \n",
              "3        CGM           252  \n",
              "4        CGM           248  "
            ]
          },
          "execution_count": 45,
          "metadata": {},
          "output_type": "execute_result"
        }
      ],
      "source": [
        "pd.DataFrame.head(data)\n"
      ]
    },
    {
      "cell_type": "code",
      "execution_count": 46,
      "metadata": {
        "colab": {
          "base_uri": "https://localhost:8080/"
        },
        "id": "SeL_OJGDCFKh",
        "outputId": "1959dbba-5ee7-4101-b964-1f209d892548"
      },
      "outputs": [
        {
          "name": "stdout",
          "output_type": "stream",
          "text": [
            "0       9688727\n",
            "1       9688728\n",
            "2       9688729\n",
            "3       9688730\n",
            "4       9688731\n",
            "         ...   \n",
            "1803    9715516\n",
            "1804    9715517\n",
            "1805    9715518\n",
            "1806    9715519\n",
            "1807    9715520\n",
            "Name: RecID, Length: 1808, dtype: int64\n"
          ]
        }
      ],
      "source": [
        "## Pre-process data\n",
        "\n",
        "### Check for any null values out\n",
        "data.isnull().values.any() #False\n",
        "\n",
        "print(data['RecID'])\n"
      ]
    },
    {
      "cell_type": "code",
      "execution_count": 47,
      "metadata": {
        "colab": {
          "base_uri": "https://localhost:8080/"
        },
        "id": "wvXHoRsJDIPD",
        "outputId": "8c528e8d-4944-4b59-b354-dd93e0284340"
      },
      "outputs": [
        {
          "name": "stdout",
          "output_type": "stream",
          "text": [
            "      DeviceDaysFromEnrolment DeviceDayTimeFromEnrolment RecordType  \\\n",
            "0                           5                   10:47:16        CGM   \n",
            "1                           5                   10:42:16        CGM   \n",
            "2                           5                   10:37:16        CGM   \n",
            "3                           5                   10:32:16        CGM   \n",
            "4                           5                   10:27:16        CGM   \n",
            "...                       ...                        ...        ...   \n",
            "1803                        4                   19:07:18        CGM   \n",
            "1804                        4                   19:02:20        CGM   \n",
            "1805                        4                   18:57:18        CGM   \n",
            "1806                        4                   18:52:18        CGM   \n",
            "1807                        4                   18:47:18        CGM   \n",
            "\n",
            "      GlucoseValue  \n",
            "0              233  \n",
            "1              240  \n",
            "2              248  \n",
            "3              252  \n",
            "4              248  \n",
            "...            ...  \n",
            "1803           108  \n",
            "1804           100  \n",
            "1805           102  \n",
            "1806           122  \n",
            "1807           128  \n",
            "\n",
            "[1808 rows x 4 columns]\n"
          ]
        }
      ],
      "source": [
        "## CGM or not?\n",
        "## Know the number of entries entries that we are supposed to obtain as the resulting data frame\n",
        "data_cgm = data['RecordType'] == 'CGM'\n",
        "data[data_cgm].shape #1766 entries that carry CGM\n",
        "data_calibration = data['RecordType'] == 'Calibration'\n",
        "data[data_calibration].shape #42 entries that carry calibration\n",
        "\n",
        "## Data preparation\n",
        "\n",
        "### Step 1 (Answer in checkpoint 1)\n",
        "drop_labels =['RecID', 'PtID']\n",
        "data = data.drop(columns=drop_labels)\n",
        "print(data)"
      ]
    },
    {
      "cell_type": "code",
      "execution_count": 48,
      "metadata": {},
      "outputs": [
        {
          "name": "stdout",
          "output_type": "stream",
          "text": [
            "The resulting dataframe is below\n"
          ]
        }
      ],
      "source": [
        "### Step 2\n",
        "data = data[data.RecordType != 'Calibration']\n",
        "\n",
        "\n",
        "### Step 3 and 4\n",
        "data = data.sort_values(by=['DeviceDaysFromEnrolment', 'DeviceDayTimeFromEnrolment'],ascending=True)\n",
        "print('The resulting dataframe is below')\n",
        "data.to_csv(index=True, path_or_buf='Help.csv')\n",
        "\n",
        "# train test and split is below"
      ]
    },
    {
      "cell_type": "markdown",
      "metadata": {
        "id": "sbn8WzfMNmNa"
      },
      "source": [
        ">❓Checkpoint 2: Plot the entire time series of the blood glucose levels  (i.e. ground-truth). You may want to use plotting libraries such as matplotlib or seaborn. On the graph that you plotted, show how you split the datapoints into train and test sets. You may want to download the graph, edit it in Paint or Powerpoint, and upload the new graph with annotations using the + Text cell > Insert image command.\n",
        "\n",
        ">🖊 Answer: From the graph obtained below, We Noticed that the device is plotted into days from when the device is first administered to the patient. Hence, the training set is split into the following intervals for each day. We refer to what we obtain from the second cell to be clearer of the datapoints that we need. To perform the training and testing split we refer to the `generate_train_test` function to determine the training and testing data needed.\n",
        "\n",
        "The annotations below highlighted in blue refer to the training and that the red refers to the testing dataset."
      ]
    },
    {
      "cell_type": "markdown",
      "metadata": {},
      "source": [
        "<img src=\"help.jpg\"></img>"
      ]
    },
    {
      "cell_type": "code",
      "execution_count": 49,
      "metadata": {
        "id": "xa9CZd3iCfw0"
      },
      "outputs": [
        {
          "data": {
            "image/png": "[encoded data removed]",
            "text/plain": [
              "<Figure size 432x288 with 1 Axes>"
            ]
          },
          "metadata": {
            "needs_background": "light"
          },
          "output_type": "display_data"
        }
      ],
      "source": [
        "## Plot entire time series\n",
        "import matplotlib.pyplot as plt\n",
        "import seaborn as sns\n",
        "\n",
        "#plot the whole dataset\n",
        "data.plot(x=\"DeviceDaysFromEnrolment\",y=\"GlucoseValue\")\n",
        "plt.savefig('device_days.jpeg')\n"
      ]
    },
    {
      "cell_type": "code",
      "execution_count": 50,
      "metadata": {},
      "outputs": [
        {
          "data": {
            "image/png": "[encoded data removed]",
            "text/plain": [
              "<Figure size 432x288 with 1 Axes>"
            ]
          },
          "metadata": {
            "needs_background": "light"
          },
          "output_type": "display_data"
        },
        {
          "data": {
            "image/png": "[encoded data removed]",
            "text/plain": [
              "<Figure size 432x288 with 1 Axes>"
            ]
          },
          "metadata": {
            "needs_background": "light"
          },
          "output_type": "display_data"
        },
        {
          "data": {
            "image/png": "[encoded data removed]",
            "text/plain": [
              "<Figure size 432x288 with 1 Axes>"
            ]
          },
          "metadata": {
            "needs_background": "light"
          },
          "output_type": "display_data"
        },
        {
          "data": {
            "image/png": "[encoded data removed]",
            "text/plain": [
              "<Figure size 432x288 with 1 Axes>"
            ]
          },
          "metadata": {
            "needs_background": "light"
          },
          "output_type": "display_data"
        },
        {
          "data": {
            "image/png": "[encoded data removed]",
            "text/plain": [
              "<Figure size 432x288 with 1 Axes>"
            ]
          },
          "metadata": {
            "needs_background": "light"
          },
          "output_type": "display_data"
        },
        {
          "data": {
            "image/png": "[encoded data removed]",
            "text/plain": [
              "<Figure size 432x288 with 1 Axes>"
            ]
          },
          "metadata": {
            "needs_background": "light"
          },
          "output_type": "display_data"
        },
        {
          "data": {
            "image/png": "[encoded data removed]",
            "text/plain": [
              "<Figure size 432x288 with 1 Axes>"
            ]
          },
          "metadata": {
            "needs_background": "light"
          },
          "output_type": "display_data"
        }
      ],
      "source": [
        "# plot for each day\n",
        "# my sanity check\n",
        "num_unique = data['DeviceDaysFromEnrolment'].nunique()\n",
        "for i in range(num_unique):\n",
        "    df_plot_days = data[data.DeviceDaysFromEnrolment == i]\n",
        "    df_plot_days.plot(x='DeviceDayTimeFromEnrolment',y='GlucoseValue')\n",
        "    plt.savefig(f'Device_Day_{i}.jpeg')"
      ]
    },
    {
      "cell_type": "code",
      "execution_count": 55,
      "metadata": {},
      "outputs": [],
      "source": [
        "# train-test split\n",
        "# first step is to set first n training and the next m for test\n",
        "# by defining the number of sliding windows, we create several windows for testing and training\n",
        "sliding_window_size = 14\n",
        "\n",
        "\n",
        "def generate_train_test(window_size, num_days, train_percentage = 0.9):\n",
        "    print(\"Our window size is \", sliding_window_size)\n",
        "\n",
        "    # INITIALISATION\n",
        "    train_arr = []\n",
        "    test_arr = []\n",
        "\n",
        "    for i in range(num_days):\n",
        "        daily_instance_count = data[data['DeviceDaysFromEnrolment'] == i].count()['DeviceDaysFromEnrolment']\n",
        "        train_arr.append((data[data[\"DeviceDaysFromEnrolment\"]==i][\"GlucoseValue\"]).values[0:int(daily_instance_count*train_percentage)])\n",
        "        \n",
        "        test_arr.append((data[data[\"DeviceDaysFromEnrolment\"]==i][\"GlucoseValue\"]).values[int(daily_instance_count*train_percentage):])\n",
        "    \n",
        "    X_train=[]\n",
        "    Y_train=[]\n",
        "    X_test=[]\n",
        "    Y_test=[]\n",
        "    for i in range(0, len(train_arr)): #Creating train and test splits using windows\n",
        "        for j in range(0, len(train_arr[i])-window_size):\n",
        "            X_train.append(train_arr[i][j:j+window_size])\n",
        "            Y_train.append(train_arr[i][j+window_size])\n",
        "    for i in range(0, len(test_arr)):\n",
        "        for j in range(0, len(test_arr[i])-window_size):\n",
        "            X_test.append(test_arr[i][j:j+window_size])\n",
        "            Y_test.append(test_arr[i][j+window_size])\n",
        "    X_train = np.array(X_train) #reshaping with third dimension =1 to ensure compatibility with lstm\n",
        "    X_train=X_train.reshape((X_train.shape[0] ,X_train.shape[1] , 1))\n",
        "    X_test = np.array(X_test)\n",
        "    X_test=X_test.reshape((X_test.shape[0] ,X_test.shape[1] , 1))\n",
        "    Y_train = np.array(Y_train)\n",
        "    Y_train=Y_train.reshape((Y_train.shape[0]  , 1))\n",
        "    Y_test = np.array(Y_test)\n",
        "    Y_test=Y_test.reshape((Y_test.shape[0] , 1))\n",
        "    \n",
        "    return X_train, Y_train, X_test, Y_test"
      ]
    },
    {
      "cell_type": "code",
      "execution_count": 60,
      "metadata": {},
      "outputs": [
        {
          "name": "stdout",
          "output_type": "stream",
          "text": [
            "Our window size is  14\n",
            "(1489, 14, 1)\n",
            "(86, 14, 1)\n",
            "(1489, 1)\n",
            "(86, 1)\n"
          ]
        }
      ],
      "source": [
        "X_train, Y_train, X_test, Y_test = generate_train_test(14, num_unique)\n",
        "print(X_train.shape)\n",
        "print(X_test.shape)\n",
        "print(Y_train.shape)\n",
        "print(Y_test.shape)"
      ]
    },
    {
      "cell_type": "markdown",
      "metadata": {
        "id": "XF98GP9_Nw1O"
      },
      "source": [
        ">❓Checkpoint 3: Determine the dimensions of your pre-processed data that will be loaded into the model. Show an example printout of your input and output data.\n",
        "\n",
        ">🖊 Answer: The example printout is above. Window size is 14. Training data loaded is (1489, 1)\n",
        "Output is dimension of (1,1) "
      ]
    },
    {
      "cell_type": "markdown",
      "metadata": {
        "id": "ZtsHo8vhZaOQ"
      },
      "source": [
        "\n",
        "\n",
        "---\n",
        "\n"
      ]
    },
    {
      "cell_type": "markdown",
      "metadata": {
        "id": "fDvdsclH-EI3"
      },
      "source": [
        "> The rest of the Problem Set to be submitted by the next stipulated deadline."
      ]
    },
    {
      "cell_type": "markdown",
      "metadata": {
        "id": "3uY1fg2FN_fp"
      },
      "source": [
        ">❓Checkpoint 4: Construct your LSTM model and show your model architecture. \n",
        "\n",
        "> 💡You may want to refer to [this tutorial](https://machinelearningmastery.com/time-series-prediction-lstm-recurrent-neural-networks-python-keras/) (Note: There are some minor errors in the pre-processing step, but still good information and usable) or [Keras LSTM](https://keras.io/api/layers/recurrent_layers/lstm/) for more information.\n",
        "\n",
        "> 💡The following code snippet will be useful in designing a LSTM model:\n",
        "\n",
        "> ```\n",
        "import tensorflow as tf\n",
        "from tensorflow.keras.layers import LSTM\n",
        "tf.keras.layer.LSTM(·) \n",
        "```\n",
        "\n",
        "> 💡The following code snippet will be useful in producing a graphical output of your model architecture:\n",
        "\n",
        "> ```\n",
        "tf.keras.utils.plot_model(·)\n",
        "```\n",
        "\n",
        "\n",
        ">🖊 Answer:"
      ]
    },
    {
      "cell_type": "markdown",
      "metadata": {
        "id": "8AQ1Ok4_OC_e"
      },
      "source": [
        ">❓Checkpoint 5: Determine the loss function and optimizer, and justify your choice.\n",
        "\n",
        "> 💡The following code snippet will be useful for defining your loss function and optimizer:\n",
        "> ``` \n",
        "tf.keras.losses.XX\n",
        "tf.keras.optimizers.XX\n",
        "```\n",
        "\n",
        ">🖊 Answer:"
      ]
    },
    {
      "cell_type": "code",
      "execution_count": null,
      "metadata": {
        "id": "NYl7bS-3Dquz"
      },
      "outputs": [],
      "source": [
        "## Create model\n"
      ]
    },
    {
      "cell_type": "code",
      "execution_count": null,
      "metadata": {
        "id": "aZDEsbAfwSWU"
      },
      "outputs": [],
      "source": [
        "## Plot and print model summary\n"
      ]
    },
    {
      "cell_type": "markdown",
      "metadata": {
        "id": "-JaidLWgI9tX"
      },
      "source": [
        "# Visualizing training"
      ]
    },
    {
      "cell_type": "markdown",
      "metadata": {
        "id": "hWWorgZ3OR7f"
      },
      "source": [
        ">❓Checkpoint 6: Show the printout and graph of training loss for each epoch.\n",
        "\n",
        ">🖊 Answer:"
      ]
    },
    {
      "cell_type": "markdown",
      "metadata": {
        "id": "r-lV3_0KOZpM"
      },
      "source": [
        ">❓Checkpoint 7: Show the graph of the prediction and ground truth across the entire timescale for both the train and test sets. Discuss your findings and suggest how modifications / improvements can be made.\n",
        "\n",
        ">🖊 Answer:"
      ]
    },
    {
      "cell_type": "code",
      "execution_count": null,
      "metadata": {
        "id": "blBxznnewn3E"
      },
      "outputs": [],
      "source": [
        "## Fit model\n"
      ]
    },
    {
      "cell_type": "code",
      "execution_count": null,
      "metadata": {
        "id": "HmelbYEEwqbe"
      },
      "outputs": [],
      "source": [
        "## Plot graph of the prediction and ground truth across the entire timescale for both the train and test sets\n"
      ]
    },
    {
      "cell_type": "markdown",
      "metadata": {
        "id": "zh9QHXElJhfM"
      },
      "source": [
        "## Hyperparameter Optimization\n",
        "We can try to improve the prediction accuracy of this LSTM model by optimizing some hyperparameters."
      ]
    },
    {
      "cell_type": "markdown",
      "metadata": {
        "id": "F7Z-_bQzOk17"
      },
      "source": [
        ">❓Checkpoint 8: Vary the window size (timesteps) and repeat the experiment to find the optimal window size that provides the lowest loss. Show the graph of the losses of your two models (first window size and optimal window size).\n",
        "\n",
        ">💡You may wish to construct a for-loop that combines train-test-split, training and validation while you search for the best window size.\n",
        "\n",
        ">🖊 Answer:"
      ]
    },
    {
      "cell_type": "code",
      "execution_count": null,
      "metadata": {
        "id": "UM2ekzEBBp1X"
      },
      "outputs": [],
      "source": [
        "## Redefine window size\n",
        "\n",
        "## Fit model\n"
      ]
    },
    {
      "cell_type": "markdown",
      "metadata": {
        "id": "U_NEg2iYOqVY"
      },
      "source": [
        ">❓Checkpoint 9: Perform a hyperparameter of your choice. Discuss your observation. You may include graphs or printouts to aid in your discussion.\n",
        "\n",
        ">🖊 Answer:"
      ]
    },
    {
      "cell_type": "code",
      "execution_count": null,
      "metadata": {
        "id": "dzbojliu2GiQ"
      },
      "outputs": [],
      "source": [
        "## Change hyperparameters\n",
        "\n",
        "## Fit model\n"
      ]
    },
    {
      "cell_type": "markdown",
      "metadata": {
        "id": "YMfkqXUAQUBb"
      },
      "source": [
        "> 💻 End of Problem Set 2 😃\n",
        "\n",
        "\n",
        "\n"
      ]
    }
  ],
  "metadata": {
    "accelerator": "GPU",
    "colab": {
      "collapsed_sections": [],
      "name": "PS2.ipynb",
      "provenance": []
    },
    "kernelspec": {
      "display_name": "Python 3",
      "name": "python3"
    },
    "language_info": {
      "codemirror_mode": {
        "name": "ipython",
        "version": 3
      },
      "file_extension": ".py",
      "mimetype": "text/x-python",
      "name": "python",
      "nbconvert_exporter": "python",
      "pygments_lexer": "ipython3",
      "version": "3.9.7"
    }
  },
  "nbformat": 4,
  "nbformat_minor": 0
}
